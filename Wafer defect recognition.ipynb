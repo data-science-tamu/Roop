{
 "cells": [
  {
   "cell_type": "code",
   "execution_count": 62,
   "id": "b287508b-5217-40e2-9f30-545ed7cb5aa0",
   "metadata": {
    "tags": []
   },
   "outputs": [],
   "source": [
    "import numpy as np\n",
    "from sklearn.model_selection import train_test_split\n",
    "import tensorflow as tf\n",
    "from tensorflow import keras\n",
    "from tensorflow.keras import layers\n",
    "from keras.layers import Conv2D\n",
    "from keras.layers import Activation\n",
    "from keras.layers import Input\n",
    "from keras.layers import Dense\n",
    "from keras.layers import GlobalAveragePooling2D\n",
    "from keras.layers import BatchNormalization\n",
    "from keras.models import Model\n",
    "from keras.initializers import RandomNormal"
   ]
  },
  {
   "cell_type": "code",
   "execution_count": 3,
   "id": "f449fd56-5e1f-461d-80f8-d5c62c926a7f",
   "metadata": {
    "tags": []
   },
   "outputs": [],
   "source": [
    "mixedwm = np.load('/Users/roopvankayalapati/Documents/Projects/Wafer defect detection/MixedWM38.npz')"
   ]
  },
  {
   "cell_type": "code",
   "execution_count": 4,
   "id": "ec6ffc90-e3c0-44a7-b4cc-6af8017d3e5f",
   "metadata": {
    "tags": []
   },
   "outputs": [
    {
     "data": {
      "text/plain": [
       "['arr_0', 'arr_1']"
      ]
     },
     "execution_count": 4,
     "metadata": {},
     "output_type": "execute_result"
    }
   ],
   "source": [
    "mixedwm.files"
   ]
  },
  {
   "cell_type": "code",
   "execution_count": 5,
   "id": "d82fcfbf-1435-4f1d-92fe-08d762a7ba82",
   "metadata": {
    "tags": []
   },
   "outputs": [
    {
     "data": {
      "text/plain": [
       "array([[1, 0, 1, ..., 0, 1, 0],\n",
       "       [1, 0, 1, ..., 0, 1, 0],\n",
       "       [1, 0, 1, ..., 0, 1, 0],\n",
       "       ...,\n",
       "       [0, 0, 0, ..., 0, 1, 0],\n",
       "       [0, 0, 0, ..., 0, 1, 0],\n",
       "       [0, 0, 0, ..., 0, 1, 0]], dtype=int32)"
      ]
     },
     "execution_count": 5,
     "metadata": {},
     "output_type": "execute_result"
    }
   ],
   "source": [
    "mixedwm['arr_1']"
   ]
  },
  {
   "cell_type": "markdown",
   "id": "83f83c6b-cba0-43da-9527-e4a4740e4b43",
   "metadata": {},
   "source": [
    "[‘arr_0’]: Defect data of mixed-type wafer map, 0 means blank spot, 1 represents normal die that passed the electrical test, and 2 represents broken die that failed the electrical test. The data shape is 52×52.\n",
    "\n",
    "[‘arr_1’]: Mixed-type wafer map defect label, using one-hot encoding, a total of 8 dimensions, corresponding to the 8 basic types of wafer map defects (single defect)."
   ]
  },
  {
   "cell_type": "code",
   "execution_count": 6,
   "id": "42c0c2fd-693c-4507-a539-b1cdbfae6070",
   "metadata": {
    "tags": []
   },
   "outputs": [
    {
     "data": {
      "text/plain": [
       "(38015, 52, 52)"
      ]
     },
     "execution_count": 6,
     "metadata": {},
     "output_type": "execute_result"
    }
   ],
   "source": [
    "mixedwm['arr_0'].shape\n"
   ]
  },
  {
   "cell_type": "code",
   "execution_count": 7,
   "id": "59573341-d0f1-4cc6-9904-777cb4dcc7d8",
   "metadata": {
    "tags": []
   },
   "outputs": [
    {
     "data": {
      "text/plain": [
       "(38015, 8)"
      ]
     },
     "execution_count": 7,
     "metadata": {},
     "output_type": "execute_result"
    }
   ],
   "source": [
    "mixedwm['arr_1'].shape"
   ]
  },
  {
   "cell_type": "code",
   "execution_count": 8,
   "id": "98ad6fa9-6525-4f84-a548-8cb6851ef7c7",
   "metadata": {},
   "outputs": [
    {
     "data": {
      "text/plain": [
       "array([[[0, 0, 0, ..., 0, 0, 0],\n",
       "        [0, 0, 0, ..., 0, 0, 0],\n",
       "        [0, 0, 0, ..., 0, 0, 0],\n",
       "        ...,\n",
       "        [0, 0, 0, ..., 0, 0, 0],\n",
       "        [0, 0, 0, ..., 0, 0, 0],\n",
       "        [0, 0, 0, ..., 0, 0, 0]],\n",
       "\n",
       "       [[0, 0, 0, ..., 0, 0, 0],\n",
       "        [0, 0, 0, ..., 0, 0, 0],\n",
       "        [0, 0, 0, ..., 0, 0, 0],\n",
       "        ...,\n",
       "        [0, 0, 0, ..., 0, 0, 0],\n",
       "        [0, 0, 0, ..., 0, 0, 0],\n",
       "        [0, 0, 0, ..., 0, 0, 0]],\n",
       "\n",
       "       [[0, 0, 0, ..., 0, 0, 0],\n",
       "        [0, 0, 0, ..., 0, 0, 0],\n",
       "        [0, 0, 0, ..., 0, 0, 0],\n",
       "        ...,\n",
       "        [0, 0, 0, ..., 0, 0, 0],\n",
       "        [0, 0, 0, ..., 0, 0, 0],\n",
       "        [0, 0, 0, ..., 0, 0, 0]],\n",
       "\n",
       "       ...,\n",
       "\n",
       "       [[0, 0, 0, ..., 0, 0, 0],\n",
       "        [0, 0, 0, ..., 0, 0, 0],\n",
       "        [0, 0, 0, ..., 0, 0, 0],\n",
       "        ...,\n",
       "        [0, 0, 0, ..., 0, 0, 0],\n",
       "        [0, 0, 0, ..., 0, 0, 0],\n",
       "        [0, 0, 0, ..., 0, 0, 0]],\n",
       "\n",
       "       [[0, 0, 0, ..., 0, 0, 0],\n",
       "        [0, 0, 0, ..., 0, 0, 0],\n",
       "        [0, 0, 0, ..., 0, 0, 0],\n",
       "        ...,\n",
       "        [0, 0, 0, ..., 0, 0, 0],\n",
       "        [0, 0, 0, ..., 0, 0, 0],\n",
       "        [0, 0, 0, ..., 0, 0, 0]],\n",
       "\n",
       "       [[0, 0, 0, ..., 0, 0, 0],\n",
       "        [0, 0, 0, ..., 0, 0, 0],\n",
       "        [0, 0, 0, ..., 0, 0, 0],\n",
       "        ...,\n",
       "        [0, 0, 0, ..., 0, 0, 0],\n",
       "        [0, 0, 0, ..., 0, 0, 0],\n",
       "        [0, 0, 0, ..., 0, 0, 0]]], dtype=int32)"
      ]
     },
     "execution_count": 8,
     "metadata": {},
     "output_type": "execute_result"
    }
   ],
   "source": [
    "mixedwm['arr_0']"
   ]
  },
  {
   "cell_type": "code",
   "execution_count": 9,
   "id": "4020cf6b-4499-4edd-ba9c-b302a153a5f6",
   "metadata": {
    "tags": []
   },
   "outputs": [],
   "source": [
    "X_train, X_test, y_train, y_test = train_test_split(mixedwm['arr_0'], mixedwm['arr_1'], test_size=0.2, random_state=1)"
   ]
  },
  {
   "cell_type": "code",
   "execution_count": 25,
   "id": "cac19315-e1e9-49d8-b53a-b197fe592f9c",
   "metadata": {
    "tags": []
   },
   "outputs": [
    {
     "name": "stdout",
     "output_type": "stream",
     "text": [
      "(30412, 52, 52)\n",
      "(30412, 8)\n"
     ]
    }
   ],
   "source": [
    "print(X_train.shape)\n",
    "print(y_train.shape)"
   ]
  },
  {
   "cell_type": "code",
   "execution_count": 27,
   "id": "158fb930-1510-4a9a-9940-74e42572d0e4",
   "metadata": {
    "tags": []
   },
   "outputs": [
    {
     "data": {
      "text/plain": [
       "(52, 52)"
      ]
     },
     "execution_count": 27,
     "metadata": {},
     "output_type": "execute_result"
    }
   ],
   "source": [
    "X_train.shape[1:]"
   ]
  },
  {
   "cell_type": "code",
   "execution_count": 26,
   "id": "65c87a7e-2101-40ad-8ac8-9d85ba4f1fca",
   "metadata": {
    "tags": []
   },
   "outputs": [
    {
     "name": "stdout",
     "output_type": "stream",
     "text": [
      "(7603, 52, 52)\n",
      "(7603, 8)\n"
     ]
    }
   ],
   "source": [
    "print(X_test.shape)\n",
    "print(y_test.shape)"
   ]
  },
  {
   "cell_type": "markdown",
   "id": "463b98d5-0706-422a-b503-23c31fd72f49",
   "metadata": {},
   "source": [
    "Start Building model"
   ]
  },
  {
   "cell_type": "code",
   "execution_count": 37,
   "id": "59315686-c0df-4966-8b8e-d0c6ce2574c9",
   "metadata": {
    "tags": []
   },
   "outputs": [],
   "source": [
    "def tf_repeat_2d(a, repeats):\n",
    "    assert len(a.get_shape()) == 2\n",
    "    a = tf.expand_dims(a, 0)\n",
    "    a = tf.tile(a, [repeats, 1, 1])\n",
    "    return a"
   ]
  },
  {
   "cell_type": "code",
   "execution_count": 39,
   "id": "737a7e89-9e39-4a8d-8031-3bec5d490921",
   "metadata": {
    "tags": []
   },
   "outputs": [],
   "source": [
    "def tf_batch_map_offsets(input, offsets, order = 1):\n",
    "    #input: tf.Tensor.shape = (b, s, s)\n",
    "    #offsets: tf.Tensor.Shape = (b, s, s, 2)\n",
    "    #returns: tf.Tensor.shape = (b, s, s)\n",
    "    \n",
    "    input_shape = tf.shape(input)\n",
    "    batch_size = input_shape[0]\n",
    "    input_size = input_shape[1]\n",
    "    \n",
    "    offsets = tf.reshape(offsets, (batch_size, -1, 2))\n",
    "    grid = tf.meshgrid(tf.range(input_size), tf.range(input_size), indexing = 'ij')\n",
    "    grid = tf.stack(grid, axis = -1)\n",
    "    grid = tf.cast(grid, 'float32')\n",
    "    grid = tf.reshape(grid, (-1, 2))\n",
    "    grid = tf_repeat_2d(grid, batch_size)\n",
    "    coords = grid + offsets\n",
    "    \n",
    "    mapped_vals = tf_batch_map_coordinates(input, coords)\n",
    "    \n",
    "    return mapped_vals"
   ]
  },
  {
   "cell_type": "code",
   "execution_count": 74,
   "id": "5c504eab-d4d0-4998-ae32-b6749776d331",
   "metadata": {
    "tags": []
   },
   "outputs": [],
   "source": [
    "class ConvOffset2D_train(Conv2D):\n",
    "    '''\n",
    "    Convolutional layer responsible for learning the 2D offsets and output the deformed\n",
    "    feature map using bilinear interpolation\n",
    "    '''\n",
    "    def __init__(self, filters, init_normal_stddev = 0.01, **kwargs):\n",
    "        '''\n",
    "        filters: int\n",
    "        Number of channel of the input feature map\n",
    "        init_normal_stddev: float\n",
    "        Normal kernel initialization\n",
    "        **kwargs:\n",
    "        pass to superclass.\n",
    "        '''\n",
    "        self.filters = filters\n",
    "        super(ConvOffset2D_train, self).__init__(self.filters * 2, (3, 3), padding = 'same',use_bias = False, \n",
    "                                                 kernel_initializer = RandomNormal(0, init_normal_stddev))\n",
    "        \n",
    "    def call(self, x):\n",
    "        '''\n",
    "        return the deformed featureed map\n",
    "        '''\n",
    "        x_shape = x.get_shape()\n",
    "        #offsets = super(ConvOffset2D_train, self).call(x)\n",
    "        offsets = self.conv2d(x)\n",
    "\n",
    "        # offsets: (b*c, h, w, 2)\n",
    "        offsets = self._to_bc_h_w_2(offsets, x_shape)\n",
    "        # x: (b*c, h, w)\n",
    "        x = self._to_bc_h_w(x, x_shape)\n",
    "        # X_offset: (b*c, h, w)\n",
    "        x_offset = tf_batch_map_offsets(x, offsets)\n",
    "        # x_offset: (b, h, w, c)\n",
    "        x_offset = self._to_b_h_w_c(x_offset, x_shape)\n",
    "\n",
    "        return x_offset\n",
    "\n",
    "    def compute_output_shape(self, input_shape):\n",
    "        '''\n",
    "        Output shape is the same as input shape\n",
    "        Becauase, this layer only does the deformation part\n",
    "        '''\n",
    "        return input_shape\n",
    "    \n",
    "    @staticmethod\n",
    "    def _to_bc_h_w_2(x, x_shape):\n",
    "        '''\n",
    "        (b, h, w, 2c)->(bc, h, w, 2)\n",
    "        '''\n",
    "        x = tf.transpose(x, [0, 3, 1, 2])\n",
    "        x = tf.reshape(x, (-1, int(x_shape[1]), int(x_shape[2]), 2))\n",
    "        return x\n",
    "\n",
    "    @staticmethod\n",
    "    def _to_bc_h_w(x, x_shape):\n",
    "        '''\n",
    "        (b, h, w, c)->(bc, h, w)\n",
    "        '''\n",
    "        x = tf.transpose(x, [0, 3, 1, 2])\n",
    "        x = tf.reshape(x, (-1, int(x_shape[1]), int(x_shape[2])))\n",
    "        return x\n",
    "\n",
    "    @staticmethod\n",
    "    def _to_b_h_w_c(x, x_shape):\n",
    "        '''\n",
    "        (b*c, h, w)->(b, h, w, c)\n",
    "        '''\n",
    "        x = tf.reshape(x, (-1, int(x_shape[3]), int(x_shape[1]), int(x_shape[2])))\n",
    "        x = tf.transpose(x, [0, 2, 3, 1])\n",
    "        return x"
   ]
  },
  {
   "cell_type": "code",
   "execution_count": 96,
   "id": "e6fd64c0-a714-4fc0-8b99-5f50615e82dd",
   "metadata": {
    "tags": []
   },
   "outputs": [],
   "source": [
    "class Train_mix():\n",
    "    def __init__(self,datapath = '/Users/roopvankayalapati/Documents/Projects/Wafer defect detection/MixedWM38.npz',\n",
    "                 lr=0.0001,fullnet_num=128,conv_num=32,deconv_size=(3,3)):\n",
    "        self.datapath=datapath\n",
    "        self.lr = lr\n",
    "        self.fullnet_num = fullnet_num\n",
    "        self.conv_num = conv_num\n",
    "        self.deconv_size = deconv_size\n",
    "    \n",
    "    def auc1(self,inputs,pre):\n",
    "        inputs_T=inputs.T\n",
    "        pre_T=pre.T\n",
    "        #for i in range(len(inputs_T)):\n",
    "        acc=np.mean(np.equal(inputs_T,pre_T).astype(np.float64),axis=1)\n",
    "        return acc\n",
    "\n",
    "    def lrelu(self,x, leak=0.2, name=\"lrelu\"):\n",
    "        with tf.variable_scope(name):\n",
    "            f1 = 0.5 * (1 + leak)\n",
    "            f2 = 0.5 * (1 - leak)\n",
    "            return f1 * x + f2 * abs(x)\n",
    "\n",
    "    def acc_myself(self,y_true, y_pre):\n",
    "        y_pre = tf.round(y_pre)\n",
    "        r = tf.equal(y_true, y_pre)\n",
    "        r = tf.cast(r, tf.float32)\n",
    "        r = tf.reduce_sum(r, axis=1)\n",
    "        d = tf.zeros_like(r, dtype=tf.float32) + 8\n",
    "        c = tf.equal(r, d)\n",
    "        c = tf.cast(c, tf.float32)\n",
    "\n",
    "        return tf.divide(tf.reduce_sum(c), tf.cast(tf.size(c), tf.float32))\n",
    "\n",
    "    \n",
    "    def build_model(self,inputs_shape,classes=8,trainable=True):\n",
    "        bn_axis=3\n",
    "\n",
    "        inputs=Input(shape=inputs_shape)\n",
    "        #x = ConvOffset2D_train(1, name='conv_1_offset')(inputs)\n",
    "        x = Conv2D(self.conv_num, (3, 3), strides=(2, 2), padding='same', name='conv_1', trainable=trainable)(inputs)\n",
    "        x = BatchNormalization(axis=bn_axis, name='batch_normalization_1')(x)\n",
    "        x = Activation('relu', name='activation_1')(x)\n",
    "\n",
    "        # Conv_2 layer\n",
    "        #x = ConvOffset2D_train(32, name='conv_2_offset')(x)\n",
    "        x = Conv2D(self.conv_num*2, (3, 3), strides=(2, 2), padding='same', name='conv_2', trainable=trainable)(x)\n",
    "        x = BatchNormalization(axis=bn_axis, name='batch_normalization_2')(x)\n",
    "        x = Activation('relu', name='activation_2')(x)\n",
    "\n",
    "        # Conv_3 layer\n",
    "        #x = ConvOffset2D_train(64, name='conv_3_offset')(x)\n",
    "        x = Conv2D(self.conv_num*4, (3, 3), strides=(2, 2), padding='same', name='conv_3', trainable=trainable)(x)\n",
    "        x = BatchNormalization(axis=bn_axis, name='batch_normalization_3')(x)\n",
    "        x = Activation('relu', name='activation_3')(x)\n",
    "\n",
    "        # Conv_4 layer\n",
    "        #x = ConvOffset2D_train(128, name='conv_4_offset')(x)\n",
    "        x = Conv2D(self.conv_num*8, (3, 3), padding='same', name='conv_4', trainable=trainable)(x)\n",
    "        x = BatchNormalization(axis=bn_axis, name='batch_normalization_4')(x)\n",
    "        x = Activation('relu', name='activation_4')(x)\n",
    "\n",
    "        # Conv_5 layer\n",
    "        #x = ConvOffset2D_train(256, name='conv_5_offset')(x)\n",
    "        x = Conv2D(self.conv_num*4, (3, 3), strides=(2, 2), padding='same', name='conv_5', trainable=trainable)(x)\n",
    "        x = BatchNormalization(axis=bn_axis, name='batch_normalization_5')(x)\n",
    "        x = Activation('relu', name='activation_5')(x)\n",
    "\n",
    "        # Pooling layer\n",
    "        x = GlobalAveragePooling2D()(x)\n",
    "\n",
    "        # fc layer\n",
    "        outputs = Dense(classes, activation='sigmoid', name='fc', trainable=trainable)(x)\n",
    "\n",
    "        return inputs, outputs\n",
    "    \n",
    "    def start_train(self):\n",
    "        \n",
    "        data=np.load(self.datapath)\n",
    "        trainx=data[\"arr_0\"]\n",
    "        trainy = data[\"arr_1\"]\n",
    "\n",
    "\n",
    "        trainx=np.expand_dims(trainx,axis=-1)\n",
    "\n",
    "        data_shape=trainx.shape[1:]\n",
    "\n",
    "        inputs, outputs = self.build_model(data_shape, classes=trainy.shape[-1], trainable=True)\n",
    "\n",
    "        model = Model(inputs=inputs, outputs=outputs)\n",
    "        model.summary()\n",
    "\n",
    "        loss = keras.losses.binary_crossentropy\n",
    "        #loss = keras.losses.categorical_crossentropy\n",
    "        optimizer = keras.optimizers.legacy.SGD(learning_rate=self.lr, decay=1e-6, momentum=0.9, nesterov=True)\n",
    "        model.compile(loss=loss, optimizer=optimizer, metrics=[self.acc_myself])\n",
    "        \n",
    "        x_train, x_test, y_train, y_test = train_test_split(trainx, trainy, test_size=0.2, random_state=10)\n",
    "        \n",
    "        history = model.fit(x_train, y_train, epochs = 50, batch_size = 32, validation_data = (x_test, y_test))\n",
    "        return history\n",
    "    \n",
    "\n"
   ]
  },
  {
   "cell_type": "code",
   "execution_count": 97,
   "id": "18a8812f-b6c3-40ee-bdee-7c3a8945d581",
   "metadata": {
    "tags": []
   },
   "outputs": [],
   "source": [
    "trainer = Train_mix(datapath = '/Users/roopvankayalapati/Documents/Projects/Wafer defect detection/MixedWM38.npz',\n",
    "                    lr = 0.001, fullnet_num = 128, conv_num = 32, deconv_size = (3,3))"
   ]
  },
  {
   "cell_type": "code",
   "execution_count": null,
   "id": "e2ae46ac-b3ab-4cb1-9cd7-4683ccd871b9",
   "metadata": {
    "tags": []
   },
   "outputs": [
    {
     "name": "stdout",
     "output_type": "stream",
     "text": [
      "Model: \"model_5\"\n",
      "_________________________________________________________________\n",
      " Layer (type)                Output Shape              Param #   \n",
      "=================================================================\n",
      " input_11 (InputLayer)       [(None, 52, 52, 1)]       0         \n",
      "                                                                 \n",
      " conv_1 (Conv2D)             (None, 26, 26, 32)        320       \n",
      "                                                                 \n",
      " batch_normalization_1 (Bat  (None, 26, 26, 32)        128       \n",
      " chNormalization)                                                \n",
      "                                                                 \n",
      " activation_1 (Activation)   (None, 26, 26, 32)        0         \n",
      "                                                                 \n",
      " conv_2 (Conv2D)             (None, 13, 13, 64)        18496     \n",
      "                                                                 \n",
      " batch_normalization_2 (Bat  (None, 13, 13, 64)        256       \n",
      " chNormalization)                                                \n",
      "                                                                 \n",
      " activation_2 (Activation)   (None, 13, 13, 64)        0         \n",
      "                                                                 \n",
      " conv_3 (Conv2D)             (None, 7, 7, 128)         73856     \n",
      "                                                                 \n",
      " batch_normalization_3 (Bat  (None, 7, 7, 128)         512       \n",
      " chNormalization)                                                \n",
      "                                                                 \n",
      " activation_3 (Activation)   (None, 7, 7, 128)         0         \n",
      "                                                                 \n",
      " conv_4 (Conv2D)             (None, 7, 7, 256)         295168    \n",
      "                                                                 \n",
      " batch_normalization_4 (Bat  (None, 7, 7, 256)         1024      \n",
      " chNormalization)                                                \n",
      "                                                                 \n",
      " activation_4 (Activation)   (None, 7, 7, 256)         0         \n",
      "                                                                 \n",
      " conv_5 (Conv2D)             (None, 4, 4, 128)         295040    \n",
      "                                                                 \n",
      " batch_normalization_5 (Bat  (None, 4, 4, 128)         512       \n",
      " chNormalization)                                                \n",
      "                                                                 \n",
      " activation_5 (Activation)   (None, 4, 4, 128)         0         \n",
      "                                                                 \n",
      " global_average_pooling2d_6  (None, 128)               0         \n",
      "  (GlobalAveragePooling2D)                                       \n",
      "                                                                 \n",
      " fc (Dense)                  (None, 8)                 1032      \n",
      "                                                                 \n",
      "=================================================================\n",
      "Total params: 686344 (2.62 MB)\n",
      "Trainable params: 685128 (2.61 MB)\n",
      "Non-trainable params: 1216 (4.75 KB)\n",
      "_________________________________________________________________\n",
      "Epoch 1/50\n",
      "951/951 [==============================] - 64s 66ms/step - loss: 0.4638 - acc_myself: 0.1104 - val_loss: 0.3889 - val_acc_myself: 0.2373\n",
      "Epoch 2/50\n",
      "951/951 [==============================] - 62s 65ms/step - loss: 0.3577 - acc_myself: 0.2541 - val_loss: 0.3281 - val_acc_myself: 0.3211\n",
      "Epoch 3/50\n",
      "951/951 [==============================] - 62s 65ms/step - loss: 0.3138 - acc_myself: 0.3332 - val_loss: 0.2911 - val_acc_myself: 0.3921\n",
      "Epoch 4/50\n",
      "951/951 [==============================] - 62s 65ms/step - loss: 0.2796 - acc_myself: 0.3992 - val_loss: 0.2578 - val_acc_myself: 0.4462\n",
      "Epoch 5/50\n",
      "951/951 [==============================] - 69s 72ms/step - loss: 0.2501 - acc_myself: 0.4439 - val_loss: 0.2306 - val_acc_myself: 0.4862\n",
      "Epoch 6/50\n",
      "951/951 [==============================] - 95s 100ms/step - loss: 0.2255 - acc_myself: 0.4773 - val_loss: 0.2095 - val_acc_myself: 0.5117\n",
      "Epoch 7/50\n",
      "951/951 [==============================] - 97s 102ms/step - loss: 0.2054 - acc_myself: 0.5075 - val_loss: 0.1914 - val_acc_myself: 0.5344\n",
      "Epoch 8/50\n",
      "951/951 [==============================] - 100s 105ms/step - loss: 0.1887 - acc_myself: 0.5331 - val_loss: 0.1749 - val_acc_myself: 0.5573\n",
      "Epoch 9/50\n",
      "951/951 [==============================] - 97s 102ms/step - loss: 0.1747 - acc_myself: 0.5549 - val_loss: 0.1629 - val_acc_myself: 0.5770\n",
      "Epoch 10/50\n",
      "951/951 [==============================] - 95s 100ms/step - loss: 0.1635 - acc_myself: 0.5800 - val_loss: 0.1514 - val_acc_myself: 0.5970\n",
      "Epoch 11/50\n",
      "951/951 [==============================] - 93s 98ms/step - loss: 0.1533 - acc_myself: 0.6001 - val_loss: 0.1415 - val_acc_myself: 0.6235\n",
      "Epoch 12/50\n",
      "951/951 [==============================] - 87s 91ms/step - loss: 0.1440 - acc_myself: 0.6367 - val_loss: 0.1327 - val_acc_myself: 0.6705\n",
      "Epoch 13/50\n",
      "951/951 [==============================] - 86s 90ms/step - loss: 0.1354 - acc_myself: 0.6699 - val_loss: 0.1259 - val_acc_myself: 0.6828\n",
      "Epoch 14/50\n",
      "951/951 [==============================] - 85s 90ms/step - loss: 0.1268 - acc_myself: 0.7111 - val_loss: 0.1172 - val_acc_myself: 0.7520\n",
      "Epoch 15/50\n",
      "951/951 [==============================] - 1399s 1s/step - loss: 0.1185 - acc_myself: 0.7533 - val_loss: 0.1082 - val_acc_myself: 0.8026\n",
      "Epoch 16/50\n",
      "951/951 [==============================] - 675s 711ms/step - loss: 0.1097 - acc_myself: 0.7975 - val_loss: 0.0993 - val_acc_myself: 0.8502\n",
      "Epoch 17/50\n",
      "951/951 [==============================] - 78s 82ms/step - loss: 0.1013 - acc_myself: 0.8299 - val_loss: 0.0919 - val_acc_myself: 0.8394\n",
      "Epoch 18/50\n",
      "951/951 [==============================] - 65s 69ms/step - loss: 0.0922 - acc_myself: 0.8593 - val_loss: 0.0828 - val_acc_myself: 0.8693\n",
      "Epoch 19/50\n",
      "951/951 [==============================] - 68s 71ms/step - loss: 0.0845 - acc_myself: 0.8755 - val_loss: 0.0770 - val_acc_myself: 0.8722\n",
      "Epoch 20/50\n",
      "951/951 [==============================] - 62s 65ms/step - loss: 0.0771 - acc_myself: 0.8885 - val_loss: 0.0695 - val_acc_myself: 0.8916\n",
      "Epoch 21/50\n",
      "951/951 [==============================] - 62s 65ms/step - loss: 0.0697 - acc_myself: 0.9003 - val_loss: 0.0627 - val_acc_myself: 0.9087\n",
      "Epoch 22/50\n",
      "951/951 [==============================] - 58s 61ms/step - loss: 0.0635 - acc_myself: 0.9096 - val_loss: 0.0569 - val_acc_myself: 0.9132\n",
      "Epoch 23/50\n",
      "951/951 [==============================] - 58s 61ms/step - loss: 0.0586 - acc_myself: 0.9149 - val_loss: 0.0532 - val_acc_myself: 0.9198\n",
      "Epoch 24/50\n",
      "951/951 [==============================] - 59s 62ms/step - loss: 0.0538 - acc_myself: 0.9225 - val_loss: 0.0492 - val_acc_myself: 0.9210\n",
      "Epoch 25/50\n",
      "951/951 [==============================] - 63s 67ms/step - loss: 0.0497 - acc_myself: 0.9274 - val_loss: 0.0457 - val_acc_myself: 0.9256\n",
      "Epoch 26/50\n",
      "951/951 [==============================] - 62s 66ms/step - loss: 0.0466 - acc_myself: 0.9297 - val_loss: 0.0432 - val_acc_myself: 0.9253\n",
      "Epoch 27/50\n",
      "951/951 [==============================] - 61s 65ms/step - loss: 0.0437 - acc_myself: 0.9351 - val_loss: 0.0450 - val_acc_myself: 0.9175\n",
      "Epoch 28/50\n",
      "951/951 [==============================] - 61s 64ms/step - loss: 0.0409 - acc_myself: 0.9382 - val_loss: 0.0392 - val_acc_myself: 0.9365\n",
      "Epoch 29/50\n",
      "951/951 [==============================] - 62s 65ms/step - loss: 0.0390 - acc_myself: 0.9399 - val_loss: 0.0373 - val_acc_myself: 0.9387\n",
      "Epoch 30/50\n",
      "951/951 [==============================] - 61s 65ms/step - loss: 0.0373 - acc_myself: 0.9419 - val_loss: 0.0367 - val_acc_myself: 0.9340\n",
      "Epoch 31/50\n",
      "951/951 [==============================] - 61s 64ms/step - loss: 0.0354 - acc_myself: 0.9449 - val_loss: 0.0340 - val_acc_myself: 0.9408\n",
      "Epoch 32/50\n",
      "951/951 [==============================] - 62s 65ms/step - loss: 0.0338 - acc_myself: 0.9470 - val_loss: 0.0335 - val_acc_myself: 0.9365\n",
      "Epoch 33/50\n",
      "951/951 [==============================] - 62s 65ms/step - loss: 0.0321 - acc_myself: 0.9503 - val_loss: 0.0322 - val_acc_myself: 0.9406\n",
      "Epoch 34/50\n",
      "951/951 [==============================] - 63s 66ms/step - loss: 0.0315 - acc_myself: 0.9508 - val_loss: 0.0310 - val_acc_myself: 0.9455\n",
      "Epoch 35/50\n",
      "951/951 [==============================] - 62s 65ms/step - loss: 0.0298 - acc_myself: 0.9529 - val_loss: 0.0341 - val_acc_myself: 0.9290\n",
      "Epoch 36/50\n",
      "482/951 [==============>...............] - ETA: 28s - loss: 0.0289 - acc_myself: 0.9557"
     ]
    }
   ],
   "source": [
    "trainer.start_train()"
   ]
  },
  {
   "cell_type": "code",
   "execution_count": null,
   "id": "02b5491b-1cd1-476f-a96a-d4f62e018f38",
   "metadata": {},
   "outputs": [],
   "source": []
  }
 ],
 "metadata": {
  "kernelspec": {
   "display_name": "Python 3 (ipykernel)",
   "language": "python",
   "name": "python3"
  },
  "language_info": {
   "codemirror_mode": {
    "name": "ipython",
    "version": 3
   },
   "file_extension": ".py",
   "mimetype": "text/x-python",
   "name": "python",
   "nbconvert_exporter": "python",
   "pygments_lexer": "ipython3",
   "version": "3.11.5"
  }
 },
 "nbformat": 4,
 "nbformat_minor": 5
}
